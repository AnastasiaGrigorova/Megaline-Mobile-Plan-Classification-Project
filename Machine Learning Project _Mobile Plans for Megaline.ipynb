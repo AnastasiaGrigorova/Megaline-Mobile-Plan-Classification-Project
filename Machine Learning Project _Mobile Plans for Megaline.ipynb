{
 "cells": [
  {
   "cell_type": "markdown",
   "metadata": {},
   "source": [
    "# Machine Learning\n",
    "\n",
    "Project 11"
   ]
  },
  {
   "cell_type": "markdown",
   "metadata": {},
   "source": [
    "\n",
    "# Contents <a id='back'></a>\n",
    "\n",
    "* [Introduction](#intro)\n",
    "* [Stage 1: Data Overview](#data_review)\n",
    "    * [Conclusions](#data_review_conclusions)\n",
    "* [Stage 2: Splitting the data](#data_splitting)\n",
    "    * [2.4 Conclusions](#conclusions)\n",
    "* [Stage 3: Investigate the quality of different models\n",
    "](#models_quality)\n",
    "    * [Decision Tree Classifier](#tree)\n",
    "    * [Random Forest](#forest)\n",
    "    * [Logic Regression](#regression)\n",
    "    * [Conclusion](#conclusion)\n",
    "* [Stage 4: Checking the quality of the model using the test set](#test_set)\n",
    "* [Stage 5: Sanity check](#sanity_check)\n",
    "* [Stage 6: Findings](#findings)\n"
   ]
  },
  {
   "cell_type": "markdown",
   "metadata": {},
   "source": [
    "## Introduction <a id='#intro'></a>\n",
    "In this analysis, we are going to train different machine learning models to investigate which one perfoms the best. \n",
    "\n",
    "Stages:\n",
    "\n",
    "1. Investigate the data.\n",
    "\n",
    "2. Split the source data into a training set, a validation set, and a test set.\n",
    "\n",
    "3. Investigate the quality of different models by changing hyperparameters.\n",
    "\n",
    "4. Check the quality of the model using the test set.\n",
    "\n",
    "5. Perform the sanity check of teh best model.\n",
    "\n",
    "\n",
    "\n",
    "[Back to Contents](#back)"
   ]
  },
  {
   "cell_type": "markdown",
   "metadata": {},
   "source": [
    "## Stage 1: Data Overview <a id=\"data_review\"></a>\n",
    "Obtaining the general information about the table."
   ]
  },
  {
   "cell_type": "markdown",
   "metadata": {},
   "source": [
    "Importing the relevant libraries."
   ]
  },
  {
   "cell_type": "code",
   "execution_count": 1,
   "metadata": {},
   "outputs": [],
   "source": [
    "\n",
    "#Importing libraries to work with the dataset\n",
    "import pandas as pd\n",
    "#Adding simple visualization library\n",
    "import matplotlib.pyplot as plt\n",
    "#Adding simple visualization library\n",
    "import seaborn as sns\n",
    "sns.set_theme(style=\"whitegrid\", palette=\"pastel\")\n",
    "#Adding simple visualization library\n",
    "import plotly.graph_objects as go\n",
    "#Adding simple visualization library\n",
    "import plotly.express as px\n",
    "\n",
    "import numpy as np\n",
    "\n",
    "from sklearn.model_selection import train_test_split\n",
    "from sklearn.tree import DecisionTreeClassifier, plot_tree\n",
    "from sklearn.ensemble import RandomForestClassifier\n",
    "from sklearn.metrics import accuracy_score\n",
    "from sklearn.ensemble import RandomForestRegressor\n",
    "from sklearn.dummy import DummyClassifier\n",
    "\n"
   ]
  },
  {
   "cell_type": "markdown",
   "metadata": {},
   "source": [
    "Loading the data"
   ]
  },
  {
   "cell_type": "code",
   "execution_count": 2,
   "metadata": {},
   "outputs": [],
   "source": [
    "#Read in the csv file and convert to a Pandas dataframe\n",
    "df = pd.read_csv('/datasets/users_behavior.csv')"
   ]
  },
  {
   "cell_type": "markdown",
   "metadata": {},
   "source": [
    "Viewing the dataframe"
   ]
  },
  {
   "cell_type": "code",
   "execution_count": 3,
   "metadata": {},
   "outputs": [
    {
     "data": {
      "text/plain": [
       "(3214, 5)"
      ]
     },
     "execution_count": 3,
     "metadata": {},
     "output_type": "execute_result"
    }
   ],
   "source": [
    "#Return number of rows and columns\n",
    "df.shape"
   ]
  },
  {
   "cell_type": "code",
   "execution_count": 4,
   "metadata": {},
   "outputs": [
    {
     "name": "stdout",
     "output_type": "stream",
     "text": [
      "<class 'pandas.core.frame.DataFrame'>\n",
      "RangeIndex: 3214 entries, 0 to 3213\n",
      "Data columns (total 5 columns):\n",
      " #   Column    Non-Null Count  Dtype  \n",
      "---  ------    --------------  -----  \n",
      " 0   calls     3214 non-null   float64\n",
      " 1   minutes   3214 non-null   float64\n",
      " 2   messages  3214 non-null   float64\n",
      " 3   mb_used   3214 non-null   float64\n",
      " 4   is_ultra  3214 non-null   int64  \n",
      "dtypes: float64(4), int64(1)\n",
      "memory usage: 125.7 KB\n"
     ]
    }
   ],
   "source": [
    "#Return info on dataset\n",
    "df.info()"
   ]
  },
  {
   "cell_type": "code",
   "execution_count": 5,
   "metadata": {},
   "outputs": [
    {
     "data": {
      "text/html": [
       "<div>\n",
       "<style scoped>\n",
       "    .dataframe tbody tr th:only-of-type {\n",
       "        vertical-align: middle;\n",
       "    }\n",
       "\n",
       "    .dataframe tbody tr th {\n",
       "        vertical-align: top;\n",
       "    }\n",
       "\n",
       "    .dataframe thead th {\n",
       "        text-align: right;\n",
       "    }\n",
       "</style>\n",
       "<table border=\"1\" class=\"dataframe\">\n",
       "  <thead>\n",
       "    <tr style=\"text-align: right;\">\n",
       "      <th></th>\n",
       "      <th>calls</th>\n",
       "      <th>minutes</th>\n",
       "      <th>messages</th>\n",
       "      <th>mb_used</th>\n",
       "      <th>is_ultra</th>\n",
       "    </tr>\n",
       "  </thead>\n",
       "  <tbody>\n",
       "    <tr>\n",
       "      <th>0</th>\n",
       "      <td>40.0</td>\n",
       "      <td>311.90</td>\n",
       "      <td>83.0</td>\n",
       "      <td>19915.42</td>\n",
       "      <td>0</td>\n",
       "    </tr>\n",
       "    <tr>\n",
       "      <th>1</th>\n",
       "      <td>85.0</td>\n",
       "      <td>516.75</td>\n",
       "      <td>56.0</td>\n",
       "      <td>22696.96</td>\n",
       "      <td>0</td>\n",
       "    </tr>\n",
       "    <tr>\n",
       "      <th>2</th>\n",
       "      <td>77.0</td>\n",
       "      <td>467.66</td>\n",
       "      <td>86.0</td>\n",
       "      <td>21060.45</td>\n",
       "      <td>0</td>\n",
       "    </tr>\n",
       "    <tr>\n",
       "      <th>3</th>\n",
       "      <td>106.0</td>\n",
       "      <td>745.53</td>\n",
       "      <td>81.0</td>\n",
       "      <td>8437.39</td>\n",
       "      <td>1</td>\n",
       "    </tr>\n",
       "    <tr>\n",
       "      <th>4</th>\n",
       "      <td>66.0</td>\n",
       "      <td>418.74</td>\n",
       "      <td>1.0</td>\n",
       "      <td>14502.75</td>\n",
       "      <td>0</td>\n",
       "    </tr>\n",
       "    <tr>\n",
       "      <th>5</th>\n",
       "      <td>58.0</td>\n",
       "      <td>344.56</td>\n",
       "      <td>21.0</td>\n",
       "      <td>15823.37</td>\n",
       "      <td>0</td>\n",
       "    </tr>\n",
       "    <tr>\n",
       "      <th>6</th>\n",
       "      <td>57.0</td>\n",
       "      <td>431.64</td>\n",
       "      <td>20.0</td>\n",
       "      <td>3738.90</td>\n",
       "      <td>1</td>\n",
       "    </tr>\n",
       "    <tr>\n",
       "      <th>7</th>\n",
       "      <td>15.0</td>\n",
       "      <td>132.40</td>\n",
       "      <td>6.0</td>\n",
       "      <td>21911.60</td>\n",
       "      <td>0</td>\n",
       "    </tr>\n",
       "    <tr>\n",
       "      <th>8</th>\n",
       "      <td>7.0</td>\n",
       "      <td>43.39</td>\n",
       "      <td>3.0</td>\n",
       "      <td>2538.67</td>\n",
       "      <td>1</td>\n",
       "    </tr>\n",
       "    <tr>\n",
       "      <th>9</th>\n",
       "      <td>90.0</td>\n",
       "      <td>665.41</td>\n",
       "      <td>38.0</td>\n",
       "      <td>17358.61</td>\n",
       "      <td>0</td>\n",
       "    </tr>\n",
       "  </tbody>\n",
       "</table>\n",
       "</div>"
      ],
      "text/plain": [
       "   calls  minutes  messages   mb_used  is_ultra\n",
       "0   40.0   311.90      83.0  19915.42         0\n",
       "1   85.0   516.75      56.0  22696.96         0\n",
       "2   77.0   467.66      86.0  21060.45         0\n",
       "3  106.0   745.53      81.0   8437.39         1\n",
       "4   66.0   418.74       1.0  14502.75         0\n",
       "5   58.0   344.56      21.0  15823.37         0\n",
       "6   57.0   431.64      20.0   3738.90         1\n",
       "7   15.0   132.40       6.0  21911.60         0\n",
       "8    7.0    43.39       3.0   2538.67         1\n",
       "9   90.0   665.41      38.0  17358.61         0"
      ]
     },
     "execution_count": 5,
     "metadata": {},
     "output_type": "execute_result"
    }
   ],
   "source": [
    "df.head(10)"
   ]
  },
  {
   "cell_type": "markdown",
   "metadata": {},
   "source": [
    "Data description\n",
    "\n",
    "Every observation in the dataset contains monthly behavior information about one user. The information given is as follows: \n",
    "\n",
    "- `'сalls'` — number of calls,\n",
    "- `'minutes'` — total call duration in minutes,\n",
    "- `'messages'` — number of text messages,\n",
    "- `'mb_used'` — Internet traffic used in MB,\n",
    "- `'is_ultra'` — plan for the current month (Ultra - 1, Smart - 0)."
   ]
  },
  {
   "cell_type": "markdown",
   "metadata": {},
   "source": [
    "Let's investigate the data."
   ]
  },
  {
   "cell_type": "code",
   "execution_count": 6,
   "metadata": {},
   "outputs": [
    {
     "data": {
      "text/html": [
       "<div>\n",
       "<style scoped>\n",
       "    .dataframe tbody tr th:only-of-type {\n",
       "        vertical-align: middle;\n",
       "    }\n",
       "\n",
       "    .dataframe tbody tr th {\n",
       "        vertical-align: top;\n",
       "    }\n",
       "\n",
       "    .dataframe thead th {\n",
       "        text-align: right;\n",
       "    }\n",
       "</style>\n",
       "<table border=\"1\" class=\"dataframe\">\n",
       "  <thead>\n",
       "    <tr style=\"text-align: right;\">\n",
       "      <th>is_ultra</th>\n",
       "      <th>0</th>\n",
       "      <th>1</th>\n",
       "    </tr>\n",
       "  </thead>\n",
       "  <tbody>\n",
       "    <tr>\n",
       "      <th>calls</th>\n",
       "      <td>58.463437</td>\n",
       "      <td>73.392893</td>\n",
       "    </tr>\n",
       "    <tr>\n",
       "      <th>minutes</th>\n",
       "      <td>405.942952</td>\n",
       "      <td>511.224569</td>\n",
       "    </tr>\n",
       "    <tr>\n",
       "      <th>messages</th>\n",
       "      <td>33.384029</td>\n",
       "      <td>49.363452</td>\n",
       "    </tr>\n",
       "    <tr>\n",
       "      <th>mb_used</th>\n",
       "      <td>16208.466949</td>\n",
       "      <td>19468.823228</td>\n",
       "    </tr>\n",
       "  </tbody>\n",
       "</table>\n",
       "</div>"
      ],
      "text/plain": [
       "is_ultra             0             1\n",
       "calls        58.463437     73.392893\n",
       "minutes     405.942952    511.224569\n",
       "messages     33.384029     49.363452\n",
       "mb_used   16208.466949  19468.823228"
      ]
     },
     "execution_count": 6,
     "metadata": {},
     "output_type": "execute_result"
    }
   ],
   "source": [
    "df.groupby(['is_ultra']).mean().T"
   ]
  },
  {
   "cell_type": "markdown",
   "metadata": {},
   "source": [
    "Conclusion\n",
    "\n",
    "The greater amount of calls, minutes of call duration, number of messages and internet traffic is attributed to users who have Ultra plan. Therefore users with ultra plan use more their phones. "
   ]
  },
  {
   "cell_type": "code",
   "execution_count": 7,
   "metadata": {},
   "outputs": [
    {
     "name": "stdout",
     "output_type": "stream",
     "text": [
      "Basic statistics for Smart group\n",
      "===============================================\n"
     ]
    },
    {
     "data": {
      "text/html": [
       "<div>\n",
       "<style scoped>\n",
       "    .dataframe tbody tr th:only-of-type {\n",
       "        vertical-align: middle;\n",
       "    }\n",
       "\n",
       "    .dataframe tbody tr th {\n",
       "        vertical-align: top;\n",
       "    }\n",
       "\n",
       "    .dataframe thead th {\n",
       "        text-align: right;\n",
       "    }\n",
       "</style>\n",
       "<table border=\"1\" class=\"dataframe\">\n",
       "  <thead>\n",
       "    <tr style=\"text-align: right;\">\n",
       "      <th></th>\n",
       "      <th>calls</th>\n",
       "      <th>minutes</th>\n",
       "      <th>messages</th>\n",
       "      <th>mb_used</th>\n",
       "      <th>is_ultra</th>\n",
       "    </tr>\n",
       "  </thead>\n",
       "  <tbody>\n",
       "    <tr>\n",
       "      <th>count</th>\n",
       "      <td>2229.000000</td>\n",
       "      <td>2229.000000</td>\n",
       "      <td>2229.000000</td>\n",
       "      <td>2229.000000</td>\n",
       "      <td>2229.0</td>\n",
       "    </tr>\n",
       "    <tr>\n",
       "      <th>mean</th>\n",
       "      <td>58.463437</td>\n",
       "      <td>405.942952</td>\n",
       "      <td>33.384029</td>\n",
       "      <td>16208.466949</td>\n",
       "      <td>0.0</td>\n",
       "    </tr>\n",
       "    <tr>\n",
       "      <th>std</th>\n",
       "      <td>25.939858</td>\n",
       "      <td>184.512604</td>\n",
       "      <td>28.227876</td>\n",
       "      <td>5870.498853</td>\n",
       "      <td>0.0</td>\n",
       "    </tr>\n",
       "    <tr>\n",
       "      <th>min</th>\n",
       "      <td>0.000000</td>\n",
       "      <td>0.000000</td>\n",
       "      <td>0.000000</td>\n",
       "      <td>0.000000</td>\n",
       "      <td>0.0</td>\n",
       "    </tr>\n",
       "    <tr>\n",
       "      <th>25%</th>\n",
       "      <td>40.000000</td>\n",
       "      <td>274.230000</td>\n",
       "      <td>10.000000</td>\n",
       "      <td>12643.050000</td>\n",
       "      <td>0.0</td>\n",
       "    </tr>\n",
       "    <tr>\n",
       "      <th>50%</th>\n",
       "      <td>60.000000</td>\n",
       "      <td>410.560000</td>\n",
       "      <td>28.000000</td>\n",
       "      <td>16506.930000</td>\n",
       "      <td>0.0</td>\n",
       "    </tr>\n",
       "    <tr>\n",
       "      <th>75%</th>\n",
       "      <td>76.000000</td>\n",
       "      <td>529.510000</td>\n",
       "      <td>51.000000</td>\n",
       "      <td>20043.060000</td>\n",
       "      <td>0.0</td>\n",
       "    </tr>\n",
       "    <tr>\n",
       "      <th>max</th>\n",
       "      <td>198.000000</td>\n",
       "      <td>1390.220000</td>\n",
       "      <td>143.000000</td>\n",
       "      <td>38552.620000</td>\n",
       "      <td>0.0</td>\n",
       "    </tr>\n",
       "  </tbody>\n",
       "</table>\n",
       "</div>"
      ],
      "text/plain": [
       "             calls      minutes     messages       mb_used  is_ultra\n",
       "count  2229.000000  2229.000000  2229.000000   2229.000000    2229.0\n",
       "mean     58.463437   405.942952    33.384029  16208.466949       0.0\n",
       "std      25.939858   184.512604    28.227876   5870.498853       0.0\n",
       "min       0.000000     0.000000     0.000000      0.000000       0.0\n",
       "25%      40.000000   274.230000    10.000000  12643.050000       0.0\n",
       "50%      60.000000   410.560000    28.000000  16506.930000       0.0\n",
       "75%      76.000000   529.510000    51.000000  20043.060000       0.0\n",
       "max     198.000000  1390.220000   143.000000  38552.620000       0.0"
      ]
     },
     "metadata": {},
     "output_type": "display_data"
    },
    {
     "name": "stdout",
     "output_type": "stream",
     "text": [
      "Basic statistics for Ultra group\n",
      "===============================================\n"
     ]
    },
    {
     "data": {
      "text/html": [
       "<div>\n",
       "<style scoped>\n",
       "    .dataframe tbody tr th:only-of-type {\n",
       "        vertical-align: middle;\n",
       "    }\n",
       "\n",
       "    .dataframe tbody tr th {\n",
       "        vertical-align: top;\n",
       "    }\n",
       "\n",
       "    .dataframe thead th {\n",
       "        text-align: right;\n",
       "    }\n",
       "</style>\n",
       "<table border=\"1\" class=\"dataframe\">\n",
       "  <thead>\n",
       "    <tr style=\"text-align: right;\">\n",
       "      <th></th>\n",
       "      <th>calls</th>\n",
       "      <th>minutes</th>\n",
       "      <th>messages</th>\n",
       "      <th>mb_used</th>\n",
       "      <th>is_ultra</th>\n",
       "    </tr>\n",
       "  </thead>\n",
       "  <tbody>\n",
       "    <tr>\n",
       "      <th>count</th>\n",
       "      <td>985.000000</td>\n",
       "      <td>985.000000</td>\n",
       "      <td>985.000000</td>\n",
       "      <td>985.000000</td>\n",
       "      <td>985.0</td>\n",
       "    </tr>\n",
       "    <tr>\n",
       "      <th>mean</th>\n",
       "      <td>73.392893</td>\n",
       "      <td>511.224569</td>\n",
       "      <td>49.363452</td>\n",
       "      <td>19468.823228</td>\n",
       "      <td>1.0</td>\n",
       "    </tr>\n",
       "    <tr>\n",
       "      <th>std</th>\n",
       "      <td>43.916853</td>\n",
       "      <td>308.031100</td>\n",
       "      <td>47.804457</td>\n",
       "      <td>10087.178654</td>\n",
       "      <td>0.0</td>\n",
       "    </tr>\n",
       "    <tr>\n",
       "      <th>min</th>\n",
       "      <td>0.000000</td>\n",
       "      <td>0.000000</td>\n",
       "      <td>0.000000</td>\n",
       "      <td>0.000000</td>\n",
       "      <td>1.0</td>\n",
       "    </tr>\n",
       "    <tr>\n",
       "      <th>25%</th>\n",
       "      <td>41.000000</td>\n",
       "      <td>276.030000</td>\n",
       "      <td>6.000000</td>\n",
       "      <td>11770.280000</td>\n",
       "      <td>1.0</td>\n",
       "    </tr>\n",
       "    <tr>\n",
       "      <th>50%</th>\n",
       "      <td>74.000000</td>\n",
       "      <td>502.550000</td>\n",
       "      <td>38.000000</td>\n",
       "      <td>19308.010000</td>\n",
       "      <td>1.0</td>\n",
       "    </tr>\n",
       "    <tr>\n",
       "      <th>75%</th>\n",
       "      <td>104.000000</td>\n",
       "      <td>730.050000</td>\n",
       "      <td>79.000000</td>\n",
       "      <td>26837.720000</td>\n",
       "      <td>1.0</td>\n",
       "    </tr>\n",
       "    <tr>\n",
       "      <th>max</th>\n",
       "      <td>244.000000</td>\n",
       "      <td>1632.060000</td>\n",
       "      <td>224.000000</td>\n",
       "      <td>49745.730000</td>\n",
       "      <td>1.0</td>\n",
       "    </tr>\n",
       "  </tbody>\n",
       "</table>\n",
       "</div>"
      ],
      "text/plain": [
       "            calls      minutes    messages       mb_used  is_ultra\n",
       "count  985.000000   985.000000  985.000000    985.000000     985.0\n",
       "mean    73.392893   511.224569   49.363452  19468.823228       1.0\n",
       "std     43.916853   308.031100   47.804457  10087.178654       0.0\n",
       "min      0.000000     0.000000    0.000000      0.000000       1.0\n",
       "25%     41.000000   276.030000    6.000000  11770.280000       1.0\n",
       "50%     74.000000   502.550000   38.000000  19308.010000       1.0\n",
       "75%    104.000000   730.050000   79.000000  26837.720000       1.0\n",
       "max    244.000000  1632.060000  224.000000  49745.730000       1.0"
      ]
     },
     "metadata": {},
     "output_type": "display_data"
    }
   ],
   "source": [
    "#Checking the descriptive statistics for the data set\n",
    "for group in df['is_ultra'].unique():\n",
    "    if group==1:\n",
    "        result='Ultra'\n",
    "    else:\n",
    "        result='Smart'\n",
    "    print(\"Basic statistics for\",result,\"group\")\n",
    "    print(\"===============================================\")\n",
    "    display(df[df.is_ultra==group].describe())"
   ]
  },
  {
   "cell_type": "markdown",
   "metadata": {},
   "source": [
    "Conclusion\n",
    "\n",
    "Based on the descriptive statistics, it is evident that there are more users with the Ultra plan (2,229) compared to the Smart plan (985). On average, Ultra plan users exhibit more active behavior than Smart plan users."
   ]
  },
  {
   "cell_type": "markdown",
   "metadata": {},
   "source": [
    "Finding correlated features"
   ]
  },
  {
   "cell_type": "code",
   "execution_count": 8,
   "metadata": {},
   "outputs": [
    {
     "data": {
      "image/png": "[encoded data removed]",
      "text/plain": [
       "<Figure size 1000x600 with 2 Axes>"
      ]
     },
     "metadata": {},
     "output_type": "display_data"
    }
   ],
   "source": [
    "# build and render a correlation matrix\n",
    "cm = df.corr()  \n",
    "\n",
    "# plot an annotated heatmap for the correlation matrix\n",
    "\n",
    "plt.figure(figsize=(10,6))\n",
    "sns.heatmap(cm, annot = True)\n",
    "\n",
    "plt.title('Correlation Matrix')\n",
    "\n",
    "plt.show()"
   ]
  },
  {
   "cell_type": "markdown",
   "metadata": {},
   "source": [
    "__Conclusion__\n",
    "\n",
    "Two features from the dataset, 'Minutes' and 'Calls', have a correlation coefficient greater than 0.9. This high correlation can lead to overfitting of the model, where the model captures noise in the training data and performs poorly on new, unseen data.\n",
    "\n",
    "The 'Minutes' and 'Calls' columns provide essentially the same information. Including both in the model does not add value but rather increases its complexity. Reducing such redundancy can simplify the model without losing important information, making it more efficient and interpretable.\n",
    "\n",
    "We decided to drop the 'Calls' feature because it is less representative than the 'Minutes' column. The number of calls does not indicate how much data was used, as it doesn't account for the duration of each call. In contrast, the 'Minutes' column provides a clearer understanding of call length and data usage. Therefore, retaining the 'Minutes' feature helps in better capturing the relevant information for the model."
   ]
  },
  {
   "cell_type": "code",
   "execution_count": 9,
   "metadata": {},
   "outputs": [
    {
     "data": {
      "text/html": [
       "<div>\n",
       "<style scoped>\n",
       "    .dataframe tbody tr th:only-of-type {\n",
       "        vertical-align: middle;\n",
       "    }\n",
       "\n",
       "    .dataframe tbody tr th {\n",
       "        vertical-align: top;\n",
       "    }\n",
       "\n",
       "    .dataframe thead th {\n",
       "        text-align: right;\n",
       "    }\n",
       "</style>\n",
       "<table border=\"1\" class=\"dataframe\">\n",
       "  <thead>\n",
       "    <tr style=\"text-align: right;\">\n",
       "      <th></th>\n",
       "      <th>minutes</th>\n",
       "      <th>messages</th>\n",
       "      <th>mb_used</th>\n",
       "      <th>is_ultra</th>\n",
       "    </tr>\n",
       "  </thead>\n",
       "  <tbody>\n",
       "    <tr>\n",
       "      <th>0</th>\n",
       "      <td>311.90</td>\n",
       "      <td>83.0</td>\n",
       "      <td>19915.42</td>\n",
       "      <td>0</td>\n",
       "    </tr>\n",
       "    <tr>\n",
       "      <th>1</th>\n",
       "      <td>516.75</td>\n",
       "      <td>56.0</td>\n",
       "      <td>22696.96</td>\n",
       "      <td>0</td>\n",
       "    </tr>\n",
       "    <tr>\n",
       "      <th>2</th>\n",
       "      <td>467.66</td>\n",
       "      <td>86.0</td>\n",
       "      <td>21060.45</td>\n",
       "      <td>0</td>\n",
       "    </tr>\n",
       "    <tr>\n",
       "      <th>3</th>\n",
       "      <td>745.53</td>\n",
       "      <td>81.0</td>\n",
       "      <td>8437.39</td>\n",
       "      <td>1</td>\n",
       "    </tr>\n",
       "    <tr>\n",
       "      <th>4</th>\n",
       "      <td>418.74</td>\n",
       "      <td>1.0</td>\n",
       "      <td>14502.75</td>\n",
       "      <td>0</td>\n",
       "    </tr>\n",
       "  </tbody>\n",
       "</table>\n",
       "</div>"
      ],
      "text/plain": [
       "   minutes  messages   mb_used  is_ultra\n",
       "0   311.90      83.0  19915.42         0\n",
       "1   516.75      56.0  22696.96         0\n",
       "2   467.66      86.0  21060.45         0\n",
       "3   745.53      81.0   8437.39         1\n",
       "4   418.74       1.0  14502.75         0"
      ]
     },
     "execution_count": 9,
     "metadata": {},
     "output_type": "execute_result"
    }
   ],
   "source": [
    "#Dropping the redundant column from the dataset\n",
    "clean_df = df.drop(['calls'], axis=1)\n",
    "clean_df.head()"
   ]
  },
  {
   "cell_type": "markdown",
   "metadata": {},
   "source": [
    "[Back to Contents](#back)"
   ]
  },
  {
   "cell_type": "markdown",
   "metadata": {},
   "source": [
    "## Stage 2: Splitting the data into a training set, a validation set, and a test set.<a id=\"data_splitting\"></a>"
   ]
  },
  {
   "cell_type": "markdown",
   "metadata": {},
   "source": [
    "To evaluate the model's performance and avoid overfitting we are going to split our data into three data sets, using the 3:1:1 ratio: \n",
    "\n",
    "* 60% - Training set: Used to train the model.\n",
    "* 20% - Validation set: Used to tune the model's hyperparameters.\n",
    "* 20% - Test set: Used to evaluate the final model's performance.\n",
    "\n",
    "\n",
    "We'll perform this split in two steps:\n",
    "\n",
    "First, split the data into training and a combined validation + test set.\n",
    "Then, split the combined validation + test set into validation and test sets."
   ]
  },
  {
   "cell_type": "code",
   "execution_count": 10,
   "metadata": {},
   "outputs": [],
   "source": [
    "from sklearn.model_selection import train_test_split\n",
    "# Splitting the data into training set (60%) and combined validation + test set (40%)\n",
    "train, valid = train_test_split(clean_df, test_size=0.4, random_state=42)\n",
    "\n",
    "# Splitting the combined validation + test set into validation set (20%) and test set (20%)\n",
    "valid_set, test_set = train_test_split(valid, test_size=0.5, random_state=42)"
   ]
  },
  {
   "cell_type": "code",
   "execution_count": 11,
   "metadata": {},
   "outputs": [
    {
     "data": {
      "text/plain": [
       "(3214, 4)"
      ]
     },
     "execution_count": 11,
     "metadata": {},
     "output_type": "execute_result"
    }
   ],
   "source": [
    "clean_df.shape"
   ]
  },
  {
   "cell_type": "code",
   "execution_count": 12,
   "metadata": {},
   "outputs": [
    {
     "data": {
      "text/plain": [
       "(1928, 4)"
      ]
     },
     "execution_count": 12,
     "metadata": {},
     "output_type": "execute_result"
    }
   ],
   "source": [
    "train.shape"
   ]
  },
  {
   "cell_type": "code",
   "execution_count": 13,
   "metadata": {},
   "outputs": [
    {
     "data": {
      "text/plain": [
       "(1286, 4)"
      ]
     },
     "execution_count": 13,
     "metadata": {},
     "output_type": "execute_result"
    }
   ],
   "source": [
    "valid.shape"
   ]
  },
  {
   "cell_type": "code",
   "execution_count": 14,
   "metadata": {},
   "outputs": [
    {
     "data": {
      "text/plain": [
       "(643, 4)"
      ]
     },
     "metadata": {},
     "output_type": "display_data"
    },
    {
     "data": {
      "text/plain": [
       "(643, 4)"
      ]
     },
     "metadata": {},
     "output_type": "display_data"
    }
   ],
   "source": [
    "display(valid_set.shape)\n",
    "display(test_set.shape)"
   ]
  },
  {
   "cell_type": "code",
   "execution_count": 15,
   "metadata": {},
   "outputs": [
    {
     "data": {
      "text/plain": [
       "0.5998755444928439"
      ]
     },
     "execution_count": 15,
     "metadata": {},
     "output_type": "execute_result"
    }
   ],
   "source": [
    "len(train)/len(clean_df)"
   ]
  },
  {
   "cell_type": "markdown",
   "metadata": {},
   "source": [
    "__Splitting data into  Feature/Target and Test/Validate/Train__"
   ]
  },
  {
   "cell_type": "code",
   "execution_count": 16,
   "metadata": {},
   "outputs": [
    {
     "name": "stdout",
     "output_type": "stream",
     "text": [
      "(1928, 3)\n",
      "(1928,)\n"
     ]
    }
   ],
   "source": [
    "#Splitting the data into feature/target train. \n",
    "features_train = train.drop('is_ultra', axis=1)\n",
    "target_train = train['is_ultra']\n",
    "print(features_train.shape)\n",
    "print(target_train.shape)"
   ]
  },
  {
   "cell_type": "code",
   "execution_count": 17,
   "metadata": {},
   "outputs": [
    {
     "name": "stdout",
     "output_type": "stream",
     "text": [
      "(643, 3)\n",
      "(643,)\n",
      "(643, 3)\n",
      "(643,)\n"
     ]
    }
   ],
   "source": [
    "#Splitting the data into feature/target validate and test. \n",
    "features_valid = valid_set.drop('is_ultra', axis=1)\n",
    "target_valid = valid_set['is_ultra']\n",
    "\n",
    "features_test = test_set.drop('is_ultra', axis=1)\n",
    "target_test = test_set['is_ultra']\n",
    "\n",
    "print(features_valid.shape)\n",
    "print(target_valid.shape)\n",
    "\n",
    "print(features_test.shape)\n",
    "print(target_test.shape)"
   ]
  },
  {
   "cell_type": "markdown",
   "metadata": {},
   "source": [
    "[Back to Contents](#back)"
   ]
  },
  {
   "cell_type": "markdown",
   "metadata": {},
   "source": [
    "## Stage 3: Investigate the quality of different models <a id=\"models_quality\"></a>\n",
    "\n",
    "We are going to investigate the quality of different models by changing their hyperparameters and briefly describe the findings of the study.\n"
   ]
  },
  {
   "cell_type": "markdown",
   "metadata": {},
   "source": [
    "### Decision Tree Classifier <a id=\"tree\"></a>"
   ]
  },
  {
   "cell_type": "code",
   "execution_count": 18,
   "metadata": {},
   "outputs": [],
   "source": [
    "from sklearn.tree import DecisionTreeClassifier\n",
    "dtc_model=DecisionTreeClassifier(random_state=42)\n",
    "#training on the train\n",
    "dtc_model=dtc_model.fit(features_train,target_train)"
   ]
  },
  {
   "cell_type": "code",
   "execution_count": 19,
   "metadata": {},
   "outputs": [
    {
     "data": {
      "text/html": [
       "<div>\n",
       "<style scoped>\n",
       "    .dataframe tbody tr th:only-of-type {\n",
       "        vertical-align: middle;\n",
       "    }\n",
       "\n",
       "    .dataframe tbody tr th {\n",
       "        vertical-align: top;\n",
       "    }\n",
       "\n",
       "    .dataframe thead th {\n",
       "        text-align: right;\n",
       "    }\n",
       "</style>\n",
       "<table border=\"1\" class=\"dataframe\">\n",
       "  <thead>\n",
       "    <tr style=\"text-align: right;\">\n",
       "      <th></th>\n",
       "      <th>minutes</th>\n",
       "      <th>messages</th>\n",
       "      <th>mb_used</th>\n",
       "    </tr>\n",
       "  </thead>\n",
       "  <tbody>\n",
       "    <tr>\n",
       "      <th>1198</th>\n",
       "      <td>185.22</td>\n",
       "      <td>0.0</td>\n",
       "      <td>3839.46</td>\n",
       "    </tr>\n",
       "    <tr>\n",
       "      <th>2918</th>\n",
       "      <td>445.00</td>\n",
       "      <td>100.0</td>\n",
       "      <td>10518.28</td>\n",
       "    </tr>\n",
       "    <tr>\n",
       "      <th>2615</th>\n",
       "      <td>296.04</td>\n",
       "      <td>38.0</td>\n",
       "      <td>22479.57</td>\n",
       "    </tr>\n",
       "    <tr>\n",
       "      <th>1745</th>\n",
       "      <td>421.16</td>\n",
       "      <td>5.0</td>\n",
       "      <td>15757.01</td>\n",
       "    </tr>\n",
       "    <tr>\n",
       "      <th>2573</th>\n",
       "      <td>419.72</td>\n",
       "      <td>0.0</td>\n",
       "      <td>43325.34</td>\n",
       "    </tr>\n",
       "    <tr>\n",
       "      <th>...</th>\n",
       "      <td>...</td>\n",
       "      <td>...</td>\n",
       "      <td>...</td>\n",
       "    </tr>\n",
       "    <tr>\n",
       "      <th>1993</th>\n",
       "      <td>244.64</td>\n",
       "      <td>0.0</td>\n",
       "      <td>41587.07</td>\n",
       "    </tr>\n",
       "    <tr>\n",
       "      <th>589</th>\n",
       "      <td>706.89</td>\n",
       "      <td>44.0</td>\n",
       "      <td>7800.95</td>\n",
       "    </tr>\n",
       "    <tr>\n",
       "      <th>1159</th>\n",
       "      <td>318.00</td>\n",
       "      <td>71.0</td>\n",
       "      <td>19221.34</td>\n",
       "    </tr>\n",
       "    <tr>\n",
       "      <th>3136</th>\n",
       "      <td>219.84</td>\n",
       "      <td>8.0</td>\n",
       "      <td>9502.52</td>\n",
       "    </tr>\n",
       "    <tr>\n",
       "      <th>1510</th>\n",
       "      <td>334.24</td>\n",
       "      <td>91.0</td>\n",
       "      <td>11304.14</td>\n",
       "    </tr>\n",
       "  </tbody>\n",
       "</table>\n",
       "<p>643 rows × 3 columns</p>\n",
       "</div>"
      ],
      "text/plain": [
       "      minutes  messages   mb_used\n",
       "1198   185.22       0.0   3839.46\n",
       "2918   445.00     100.0  10518.28\n",
       "2615   296.04      38.0  22479.57\n",
       "1745   421.16       5.0  15757.01\n",
       "2573   419.72       0.0  43325.34\n",
       "...       ...       ...       ...\n",
       "1993   244.64       0.0  41587.07\n",
       "589    706.89      44.0   7800.95\n",
       "1159   318.00      71.0  19221.34\n",
       "3136   219.84       8.0   9502.52\n",
       "1510   334.24      91.0  11304.14\n",
       "\n",
       "[643 rows x 3 columns]"
      ]
     },
     "execution_count": 19,
     "metadata": {},
     "output_type": "execute_result"
    }
   ],
   "source": [
    "features_valid"
   ]
  },
  {
   "cell_type": "code",
   "execution_count": 20,
   "metadata": {},
   "outputs": [
    {
     "data": {
      "text/plain": [
       "1198    0\n",
       "2918    1\n",
       "2615    0\n",
       "1745    0\n",
       "2573    1\n",
       "       ..\n",
       "1993    1\n",
       "589     0\n",
       "1159    0\n",
       "3136    0\n",
       "1510    0\n",
       "Name: is_ultra, Length: 643, dtype: int64"
      ]
     },
     "execution_count": 20,
     "metadata": {},
     "output_type": "execute_result"
    }
   ],
   "source": [
    "target_valid"
   ]
  },
  {
   "cell_type": "code",
   "execution_count": 21,
   "metadata": {},
   "outputs": [
    {
     "data": {
      "text/plain": [
       "array([0, 0, 1, 0, 1, 0, 0, 0, 0, 0, 0, 0, 0, 0, 1, 0, 0, 0, 0, 0, 0, 0,\n",
       "       0, 0, 0, 0, 1, 0, 1, 0, 0, 0, 0, 0, 1, 0, 0, 0, 1, 1, 1, 1, 1, 0,\n",
       "       0, 0, 0, 0, 0, 1, 0, 0, 0, 0, 1, 1, 1, 0, 1, 1, 0, 0, 0, 1, 1, 0,\n",
       "       1, 0, 0, 0, 0, 0, 0, 1, 1, 0, 1, 0, 1, 0, 0, 0, 1, 0, 0, 0, 1, 0,\n",
       "       0, 0, 0, 0, 0, 1, 0, 1, 1, 0, 0, 0, 0, 0, 0, 0, 1, 0, 0, 0, 1, 1,\n",
       "       1, 0, 0, 0, 0, 0, 1, 0, 1, 0, 0, 1, 0, 0, 0, 1, 0, 0, 0, 1, 0, 0,\n",
       "       0, 0, 0, 0, 0, 0, 0, 0, 0, 0, 1, 0, 0, 0, 0, 0, 1, 1, 0, 0, 0, 0,\n",
       "       0, 1, 1, 0, 1, 0, 0, 0, 0, 0, 0, 0, 0, 0, 0, 0, 0, 0, 0, 0, 0, 1,\n",
       "       0, 0, 0, 0, 1, 1, 0, 0, 0, 1, 0, 1, 1, 0, 1, 0, 1, 0, 0, 0, 1, 0,\n",
       "       1, 1, 1, 0, 1, 1, 0, 0, 0, 0, 0, 1, 0, 0, 0, 0, 0, 0, 0, 0, 0, 0,\n",
       "       0, 0, 0, 1, 0, 1, 0, 1, 0, 0, 0, 0, 1, 0, 0, 0, 0, 0, 0, 0, 0, 1,\n",
       "       0, 0, 0, 0, 1, 0, 0, 1, 0, 1, 0, 0, 0, 1, 0, 0, 0, 0, 1, 0, 0, 0,\n",
       "       1, 1, 0, 0, 1, 0, 1, 1, 0, 1, 0, 0, 1, 0, 1, 1, 0, 1, 0, 1, 0, 1,\n",
       "       0, 0, 1, 0, 1, 0, 1, 1, 0, 0, 1, 0, 0, 1, 1, 1, 1, 0, 0, 1, 0, 0,\n",
       "       0, 0, 0, 0, 1, 0, 0, 1, 1, 0, 0, 0, 0, 0, 1, 0, 0, 0, 0, 1, 1, 0,\n",
       "       0, 0, 1, 1, 0, 0, 1, 0, 1, 0, 0, 0, 0, 1, 1, 0, 1, 0, 0, 0, 0, 0,\n",
       "       0, 1, 0, 1, 0, 0, 0, 0, 0, 1, 0, 1, 0, 0, 0, 0, 0, 1, 1, 0, 0, 0,\n",
       "       0, 1, 0, 1, 1, 0, 0, 1, 0, 0, 0, 0, 0, 0, 0, 1, 0, 1, 1, 0, 1, 0,\n",
       "       1, 1, 0, 0, 0, 1, 0, 0, 0, 0, 0, 0, 0, 0, 0, 1, 0, 1, 0, 0, 0, 0,\n",
       "       0, 1, 0, 0, 0, 0, 0, 0, 0, 0, 0, 1, 1, 0, 0, 0, 0, 0, 0, 0, 0, 1,\n",
       "       0, 0, 0, 0, 0, 1, 1, 0, 1, 0, 0, 1, 1, 1, 1, 0, 0, 0, 0, 1, 1, 0,\n",
       "       1, 0, 0, 0, 1, 0, 0, 0, 1, 0, 0, 0, 0, 0, 0, 1, 0, 0, 0, 0, 1, 0,\n",
       "       0, 1, 0, 0, 0, 1, 0, 0, 0, 0, 1, 1, 1, 0, 0, 0, 0, 0, 0, 0, 0, 0,\n",
       "       0, 0, 0, 1, 1, 0, 0, 0, 0, 0, 1, 0, 0, 1, 0, 0, 0, 0, 1, 0, 0, 1,\n",
       "       0, 0, 1, 0, 1, 0, 0, 1, 0, 0, 0, 0, 0, 0, 0, 1, 0, 0, 0, 1, 0, 0,\n",
       "       1, 1, 0, 0, 0, 0, 1, 0, 0, 0, 1, 0, 0, 0, 0, 0, 1, 1, 0, 1, 1, 0,\n",
       "       0, 0, 0, 0, 1, 0, 0, 0, 0, 0, 0, 0, 0, 0, 1, 0, 0, 0, 0, 0, 0, 0,\n",
       "       1, 0, 1, 1, 0, 0, 0, 0, 1, 1, 0, 0, 1, 1, 0, 1, 0, 1, 1, 0, 0, 0,\n",
       "       1, 0, 0, 1, 0, 0, 1, 0, 1, 1, 0, 1, 0, 1, 0, 1, 0, 0, 0, 1, 1, 1,\n",
       "       1, 1, 1, 0, 0])"
      ]
     },
     "execution_count": 21,
     "metadata": {},
     "output_type": "execute_result"
    }
   ],
   "source": [
    "#fitting predictions on the valid data set\n",
    "valid_pred=dtc_model.predict(features_valid)\n",
    "valid_pred"
   ]
  },
  {
   "cell_type": "code",
   "execution_count": 22,
   "metadata": {},
   "outputs": [
    {
     "data": {
      "text/plain": [
       "0.7045101088646968"
      ]
     },
     "execution_count": 22,
     "metadata": {},
     "output_type": "execute_result"
    }
   ],
   "source": [
    "#Calculating the accuracy score\n",
    "score = dtc_model.score(features_valid, target_valid)\n",
    "score  "
   ]
  },
  {
   "cell_type": "code",
   "execution_count": 23,
   "metadata": {},
   "outputs": [
    {
     "data": {
      "text/plain": [
       "30"
      ]
     },
     "execution_count": 23,
     "metadata": {},
     "output_type": "execute_result"
    }
   ],
   "source": [
    "#Checking the hyperparameter of the model\n",
    "dtc_model.tree_.max_depth"
   ]
  },
  {
   "cell_type": "code",
   "execution_count": 24,
   "metadata": {},
   "outputs": [
    {
     "name": "stdout",
     "output_type": "stream",
     "text": [
      "Final depth= 1 with accuracy: 0.7309486780715396\n",
      "Final depth= 2 with accuracy: 0.7822706065318819\n",
      "Final depth= 3 with accuracy: 0.7916018662519441\n",
      "Final depth= 4 with accuracy: 0.7776049766718507\n",
      "Final depth= 5 with accuracy: 0.7838258164852255\n",
      "Final depth= 6 with accuracy: 0.7884914463452566\n"
     ]
    }
   ],
   "source": [
    "final_depth = 0\n",
    "final_score = 0\n",
    "for depth in range(1, 7):\n",
    "    dtc_model = DecisionTreeClassifier(random_state=42, max_depth=depth)\n",
    "    dtc_model.fit(features_train,target_train)\n",
    "    valid_pred = dtc_model.predict(features_valid)\n",
    "    accuracy = dtc_model.score(features_valid, target_valid)\n",
    "    print(\"Final depth=\", depth,\"with accuracy:\",accuracy)"
   ]
  },
  {
   "cell_type": "code",
   "execution_count": 25,
   "metadata": {},
   "outputs": [
    {
     "name": "stdout",
     "output_type": "stream",
     "text": [
      "Final depth= 3 with training accuracy: 0.7916018662519441\n"
     ]
    }
   ],
   "source": [
    "final_depth = 0\n",
    "final_score = 0\n",
    "for depth in range(1, 7):\n",
    "    dtc_model = DecisionTreeClassifier(random_state=42, max_depth=depth)\n",
    "    dtc_model.fit(features_train,target_train)\n",
    "    valid_pred = dtc_model.predict(features_valid)\n",
    "    accuracy = dtc_model.score(features_valid, target_valid)\n",
    "    if accuracy > final_score:\n",
    "        final_depth = depth\n",
    "        final_score = accuracy\n",
    "\n",
    "print(\"Final depth=\", final_depth,\"with training accuracy:\",final_score)"
   ]
  },
  {
   "cell_type": "code",
   "execution_count": 26,
   "metadata": {},
   "outputs": [
    {
     "data": {
      "image/png": "[encoded data removed]",
      "text/plain": [
       "<Figure size 3000x3000 with 1 Axes>"
      ]
     },
     "metadata": {},
     "output_type": "display_data"
    }
   ],
   "source": [
    "dtc_model = DecisionTreeClassifier(random_state=42, max_depth=3)\n",
    "dtc_model.fit(features_train,target_train)\n",
    "valid_pred = dtc_model.predict(features_valid)\n",
    "fig, axes = plt.subplots(nrows = 1, ncols = 1, figsize = (10,10), dpi = 300)\n",
    "plot_tree(dtc_model,feature_names=features_train.columns,filled=True, fontsize=6);"
   ]
  },
  {
   "cell_type": "markdown",
   "metadata": {},
   "source": [
    "__Conclusion__\n",
    "\n",
    "The model Decision Tree Classifier has the highest accuracy score of 0.79 with the hyperparameter tuned to the maximum depth of 3."
   ]
  },
  {
   "cell_type": "markdown",
   "metadata": {},
   "source": [
    "### Random Forest  <a id=\"forest\"></a>"
   ]
  },
  {
   "cell_type": "markdown",
   "metadata": {},
   "source": [
    "Let's look at the another model Random Forest, how it performs in terms of accuracy score. It considered to have a higer accuracy."
   ]
  },
  {
   "cell_type": "code",
   "execution_count": 27,
   "metadata": {},
   "outputs": [
    {
     "name": "stdout",
     "output_type": "stream",
     "text": [
      "1 0.7060653188180405\n",
      "2 0.7589424572317263\n",
      "3 0.7698289269051322\n",
      "4 0.7853810264385692\n",
      "5 0.7853810264385692\n",
      "6 0.7853810264385692\n",
      "7 0.7853810264385692\n",
      "8 0.7853810264385692\n",
      "9 0.7853810264385692\n",
      "10 0.7853810264385692\n",
      "11 0.7853810264385692\n",
      "12 0.7853810264385692\n",
      "13 0.7853810264385692\n",
      "14 0.7853810264385692\n",
      "15 0.7853810264385692\n",
      "16 0.7931570762052877\n",
      "17 0.7931570762052877\n",
      "18 0.7947122861586314\n",
      "19 0.7947122861586314\n",
      "20 0.7978227060653188\n",
      "21 0.80248833592535\n",
      "22 0.8040435458786936\n",
      "23 0.8040435458786936\n",
      "24 0.8040435458786936\n",
      "25 0.8040435458786936\n",
      "26 0.8040435458786936\n",
      "27 0.8040435458786936\n",
      "28 0.8040435458786936\n",
      "29 0.8040435458786936\n",
      "30 0.8040435458786936\n",
      "31 0.8040435458786936\n",
      "32 0.8040435458786936\n",
      "33 0.8040435458786936\n",
      "34 0.8040435458786936\n",
      "35 0.8040435458786936\n",
      "36 0.8040435458786936\n",
      "37 0.8040435458786936\n",
      "38 0.8040435458786936\n",
      "39 0.8040435458786936\n",
      "40 0.8040435458786936\n",
      "41 0.8040435458786936\n",
      "42 0.8040435458786936\n",
      "43 0.8040435458786936\n",
      "44 0.8040435458786936\n",
      "45 0.8040435458786936\n",
      "46 0.8040435458786936\n",
      "47 0.8040435458786936\n",
      "48 0.8055987558320373\n",
      "49 0.8055987558320373\n"
     ]
    }
   ],
   "source": [
    "#Checking the best accuracy score based on the different number of estimators\n",
    "final_est = 0\n",
    "final_score = 0\n",
    "for n in range(1, 50):\n",
    "    rfc_model = RandomForestClassifier(random_state=42, n_estimators=n)\n",
    "    rfc_model.fit(features_train,target_train)\n",
    "    score = rfc_model.score(features_valid, target_valid)\n",
    "    if score > final_score:\n",
    "        final_score = score\n",
    "        best_est = n\n",
    "    print(n,final_score)"
   ]
  },
  {
   "cell_type": "code",
   "execution_count": 28,
   "metadata": {},
   "outputs": [
    {
     "name": "stdout",
     "output_type": "stream",
     "text": [
      "Best number of estimators= 49 with accuracy: 0.8055987558320373\n"
     ]
    }
   ],
   "source": [
    "#Checking the best accuracy score based on the different number of estimators\n",
    "final_est = 0\n",
    "final_score = 0\n",
    "for n in range(1, 50):\n",
    "    rfc_model = RandomForestClassifier(random_state=42, n_estimators=n)\n",
    "    rfc_model.fit(features_train,target_train)\n",
    "    score = rfc_model.score(features_valid, target_valid)\n",
    "    if score > final_score:\n",
    "        final_score = score\n",
    "        best_est = n\n",
    "print(\"Best number of estimators=\", n, \"with accuracy:\",final_score)"
   ]
  },
  {
   "cell_type": "markdown",
   "metadata": {},
   "source": [
    "This model has proved to be more effective and exhibit higher accuracy score."
   ]
  },
  {
   "cell_type": "markdown",
   "metadata": {},
   "source": [
    "### Logistic Regression <a id=\"regression\"></a>"
   ]
  },
  {
   "cell_type": "code",
   "execution_count": 29,
   "metadata": {},
   "outputs": [
    {
     "name": "stdout",
     "output_type": "stream",
     "text": [
      "Logistic regression training score: 0.7278382581648523\n"
     ]
    }
   ],
   "source": [
    "from sklearn.linear_model import LogisticRegression\n",
    "lr_model = LogisticRegression(random_state=42, solver='liblinear')\n",
    "lr_model.fit(features_train,target_train)\n",
    "score = lr_model.score(features_valid, target_valid)\n",
    "print(\"Logistic regression training score:\", score)"
   ]
  },
  {
   "cell_type": "code",
   "execution_count": 30,
   "metadata": {},
   "outputs": [],
   "source": [
    "predictions_test = lr_model.predict(features_test)                 \n",
    "accuracy_test = accuracy_score(target_test, predictions_test)  "
   ]
  },
  {
   "cell_type": "code",
   "execution_count": 31,
   "metadata": {},
   "outputs": [
    {
     "name": "stdout",
     "output_type": "stream",
     "text": [
      "Logistic regression testing score: 0.7091757387247278\n"
     ]
    }
   ],
   "source": [
    "print(\"Logistic regression testing score:\", accuracy_test)"
   ]
  },
  {
   "cell_type": "markdown",
   "metadata": {},
   "source": [
    "### Conclusion<a id=\"conclusion\"></a>\n",
    "\n",
    "\n",
    "Here are the accuracy scores for each model:\n",
    "\n",
    "__Decision Tree Classifier:__\n",
    "\n",
    "Final depth: 3\n",
    "\n",
    "Training accuracy: 0.7916\n",
    "\n",
    "__Random Forest:__\n",
    "Best number of estimators: 49\n",
    "\n",
    "Accuracy: 0.8056\n",
    "\n",
    "__Logistic Regression:__\n",
    "\n",
    "Testing score: 0.7092\n",
    "\n",
    "The Random Forest model has the highest accuracy score of 0.8056, making it the most accurate model among the three.\n",
    "\n",
    "However, the accuracy for the Decision Tree Classifier provided is the training accuracy, not the testing accuracy. For a fair comparison, we are going to train the chosen model using the test set."
   ]
  },
  {
   "cell_type": "markdown",
   "metadata": {},
   "source": [
    "<div class=\"alert alert-success\">\n",
    "<b>Reviewer's comment v1:</b>\n",
    "    \n",
    "Everything is correct here! Great that you've managed to check multiple models. \n",
    "\n",
    "Some possible minor improvements: \n",
    "\n",
    "- Besides accuracy, consider evaluating models using additional metrics like F1-score, precision, recall, or the ROC-AUC score for a more holistic view of performance, especially if the class distribution is imbalanced.\n",
    "- Cross-validation could be used instead of a single validation set to get a more reliable estimate of model performance."
   ]
  },
  {
   "cell_type": "markdown",
   "metadata": {},
   "source": [
    "[Back to Contents](#back)"
   ]
  },
  {
   "cell_type": "markdown",
   "metadata": {},
   "source": [
    "## Checking the quality of the model using the test set <a id=\"test_set\">"
   ]
  },
  {
   "cell_type": "code",
   "execution_count": 32,
   "metadata": {},
   "outputs": [
    {
     "name": "stdout",
     "output_type": "stream",
     "text": [
      "Test accuracy with 49 estimators: 0.8040435458786936\n"
     ]
    }
   ],
   "source": [
    "# Evaluating the model on the valid set\n",
    "valid_predictions = rfc_model.predict(features_valid)\n",
    "valid_accuracy = accuracy_score(target_valid, valid_predictions)\n",
    "\n",
    "print(\"Test accuracy with 49 estimators:\", valid_accuracy)"
   ]
  },
  {
   "cell_type": "code",
   "execution_count": 33,
   "metadata": {},
   "outputs": [
    {
     "name": "stdout",
     "output_type": "stream",
     "text": [
      "Test accuracy with 49 estimators: 0.8133748055987559\n"
     ]
    }
   ],
   "source": [
    "# Evaluating the model on the test set\n",
    "test_predictions = rfc_model.predict(features_test)\n",
    "test_accuracy = accuracy_score(target_test, test_predictions)\n",
    "\n",
    "print(\"Test accuracy with 49 estimators:\", test_accuracy)"
   ]
  },
  {
   "cell_type": "markdown",
   "metadata": {},
   "source": [
    "The Random Forest model with 49 estimators achieved a test accuracy of 81.65%, demonstrating good generalization from the training data to the test set. This result indicates a well-performing model that balances bias and variance effectively."
   ]
  },
  {
   "cell_type": "markdown",
   "metadata": {},
   "source": [
    "<div class=\"alert alert-success\">\n",
    "<b>Reviewer's comment v1:</b>\n",
    "    \n",
    "Great! Well above the required threshold. "
   ]
  },
  {
   "cell_type": "markdown",
   "metadata": {},
   "source": [
    "[Back to Contents](#back)"
   ]
  },
  {
   "cell_type": "markdown",
   "metadata": {},
   "source": [
    "## Sanity check <a id=\"sanity_check\">"
   ]
  },
  {
   "cell_type": "markdown",
   "metadata": {},
   "source": [
    "Finally, we are going to perform a sanity check of the winning model using a Dummy Classifier.The Dummy Classifier makes predictions based on simple rules. This will help understand how well our model is performing compared to a naive approach. "
   ]
  },
  {
   "cell_type": "code",
   "execution_count": 34,
   "metadata": {},
   "outputs": [
    {
     "name": "stdout",
     "output_type": "stream",
     "text": [
      "Dummy Classifier Test accuracy (most frequent): 0.6967340590979783\n",
      "The Random Forest model performs better than the Dummy Classifier.\n"
     ]
    }
   ],
   "source": [
    "# Training the Dummy Classifier\n",
    "dummy_model = DummyClassifier(strategy='most_frequent')\n",
    "dummy_model.fit(features_train, target_train)\n",
    "\n",
    "# Predicting and evaluating on the test set\n",
    "dummy_predictions = dummy_model.predict(features_test)\n",
    "dummy_accuracy = accuracy_score(target_test, dummy_predictions)\n",
    "\n",
    "print(\"Dummy Classifier Test accuracy (most frequent):\", dummy_accuracy)\n",
    "\n",
    "# Comparing performances\n",
    "if test_accuracy > dummy_accuracy:\n",
    "    print(\"The Random Forest model performs better than the Dummy Classifier.\")\n",
    "else:\n",
    "    print(\"The Random Forest model does not perform better than the Dummy Classifier. Consider revising the model.\")"
   ]
  },
  {
   "cell_type": "markdown",
   "metadata": {},
   "source": [
    "__Conclusion__\n",
    "\n",
    "Our Random Forest model performs significantly better than the Dummy Classifier, which is a positive outcome. Here's a detailed interpretation:\n",
    "\n",
    "The Dummy Classifier, using the most_frequent strategy, achieved an accuracy of 70.76%. This means that if you always predicted the most frequent class in the training data, you would be correct 70.76% of the time.\n",
    "\n",
    "The Random Forest model achieved a test accuracy of 81.65%. This means that the model correctly predicted the target variable 81.65% of the time on the test data.\n",
    "\n",
    "The Random Forest model's accuracy is 81.65%, which is significantly higher than the Dummy Classifier's accuracy of 70.76%. This shows that the Random Forest model has learned meaningful patterns from the data and is making better predictions than a naive baseline method.\n",
    "\n",
    "The 10.89% improvement in accuracy (81.65% - 70.76%) demonstrates that our model is effective and provides a meaningful improvement over a naive prediction strategy.\n"
   ]
  },
  {
   "cell_type": "markdown",
   "metadata": {},
   "source": [
    "[Back to Contents](#back)"
   ]
  },
  {
   "cell_type": "markdown",
   "metadata": {},
   "source": [
    "## Findings <a id=\"findings\">"
   ]
  },
  {
   "cell_type": "markdown",
   "metadata": {},
   "source": [
    "__Findings__\n",
    "\n",
    "In this project, we analyzed the data from two different mobile plans offered by the company: Smart and Ultra. Our goal was to predict the best plan based on users' behavior using three different models.\n",
    "\n",
    "__Model Performance on Training Data:__\n",
    "\n",
    "Decision Tree Classifier:\n",
    "\n",
    "Final depth: 3\n",
    "Training accuracy: 0.7916\n",
    "\n",
    "\n",
    "Random Forest:\n",
    "\n",
    "Best number of estimators: 49\n",
    "Accuracy: 0.8056\n",
    "\n",
    "\n",
    "Logistic Regression:\n",
    "\n",
    "Testing score: 0.7092\n",
    "\n",
    "\n",
    "__Validation and Test Set Performance:__\n",
    "\n",
    "The Random Forest model with 49 estimators showed the highest accuracy score on the training dataset. When applied to the validation (20%) and test (20%) sets, we achieved even better results:\n",
    "Validation accuracy: 91.13%\n",
    "Test accuracy: 81.65%\n",
    "\n",
    "\n",
    "__Dummy Classifier Comparison:__\n",
    "\n",
    "To ensure the model's quality, we compared its performance against a Dummy Classifier. The model performed 10.89% better in accuracy compared to the Dummy Classifier's accuracy of 70.76%. This confirms that our model is effective and provides meaningful predictions beyond a simple baseline approach.\n",
    "\n",
    "\n",
    "\n",
    "__Summary__\n",
    "\n",
    "The Random Forest model with 49 estimators demonstrated the highest accuracy on both the training and test datasets. Its performance surpassed that of the Dummy Classifier, indicating its effectiveness in predicting the best mobile plan based on user behavior. These findings highlight the potential of our model to assist the company in making informed decisions regarding plan recommendations for its customers.\n",
    "\n",
    "\n",
    "\n",
    "\n",
    "\n",
    "\n"
   ]
  },
  {
   "cell_type": "markdown",
   "metadata": {},
   "source": [
    "[Back to Contents](#back)"
   ]
  }
 ],
 "metadata": {
  "ExecuteTimeLog": [
   {
    "duration": 8820,
    "start_time": "2024-05-29T12:02:43.728Z"
   },
   {
    "duration": 4,
    "start_time": "2024-05-29T12:03:03.278Z"
   },
   {
    "duration": 416,
    "start_time": "2024-05-29T12:05:10.170Z"
   },
   {
    "duration": 758,
    "start_time": "2024-05-29T12:05:13.306Z"
   },
   {
    "duration": 21,
    "start_time": "2024-05-29T12:06:15.948Z"
   },
   {
    "duration": 6,
    "start_time": "2024-05-29T12:06:17.937Z"
   },
   {
    "duration": 18,
    "start_time": "2024-05-29T12:06:18.740Z"
   },
   {
    "duration": 16,
    "start_time": "2024-05-29T12:28:34.258Z"
   },
   {
    "duration": 63,
    "start_time": "2024-05-29T12:30:57.009Z"
   },
   {
    "duration": 7,
    "start_time": "2024-05-29T12:31:51.409Z"
   },
   {
    "duration": 606,
    "start_time": "2024-05-29T12:32:15.907Z"
   },
   {
    "duration": 610,
    "start_time": "2024-05-29T12:32:35.286Z"
   },
   {
    "duration": 545,
    "start_time": "2024-05-29T12:32:46.661Z"
   },
   {
    "duration": 284,
    "start_time": "2024-05-29T12:39:30.132Z"
   },
   {
    "duration": 10091,
    "start_time": "2024-05-30T07:26:19.555Z"
   },
   {
    "duration": 19,
    "start_time": "2024-05-30T07:26:29.652Z"
   },
   {
    "duration": 7,
    "start_time": "2024-05-30T07:26:29.675Z"
   },
   {
    "duration": 50,
    "start_time": "2024-05-30T07:26:29.686Z"
   },
   {
    "duration": 20,
    "start_time": "2024-05-30T07:26:29.742Z"
   },
   {
    "duration": 108,
    "start_time": "2024-05-30T07:26:29.767Z"
   },
   {
    "duration": 632,
    "start_time": "2024-05-30T07:26:29.880Z"
   },
   {
    "duration": 561,
    "start_time": "2024-05-30T07:26:30.523Z"
   },
   {
    "duration": 0,
    "start_time": "2024-05-30T07:26:31.088Z"
   },
   {
    "duration": 0,
    "start_time": "2024-05-30T07:26:31.091Z"
   },
   {
    "duration": 9,
    "start_time": "2024-05-30T07:26:31.887Z"
   },
   {
    "duration": 5,
    "start_time": "2024-05-30T07:26:32.806Z"
   },
   {
    "duration": 17,
    "start_time": "2024-05-30T07:26:33.301Z"
   },
   {
    "duration": 15,
    "start_time": "2024-05-30T07:26:34.915Z"
   },
   {
    "duration": 59,
    "start_time": "2024-05-30T07:26:36.468Z"
   },
   {
    "duration": 17,
    "start_time": "2024-05-30T07:27:14.525Z"
   },
   {
    "duration": 14,
    "start_time": "2024-05-30T07:27:33.760Z"
   },
   {
    "duration": 16,
    "start_time": "2024-05-30T07:27:38.721Z"
   },
   {
    "duration": 13,
    "start_time": "2024-05-30T07:31:52.772Z"
   },
   {
    "duration": 13,
    "start_time": "2024-05-30T07:52:14.213Z"
   },
   {
    "duration": 8,
    "start_time": "2024-05-30T07:55:55.608Z"
   },
   {
    "duration": 6,
    "start_time": "2024-05-30T07:56:17.764Z"
   },
   {
    "duration": 14,
    "start_time": "2024-05-30T07:56:26.828Z"
   },
   {
    "duration": 6,
    "start_time": "2024-05-30T07:57:05.112Z"
   },
   {
    "duration": 9,
    "start_time": "2024-05-30T08:13:32.445Z"
   },
   {
    "duration": 7,
    "start_time": "2024-05-30T08:13:50.247Z"
   },
   {
    "duration": 11,
    "start_time": "2024-05-30T08:15:20.521Z"
   },
   {
    "duration": 13,
    "start_time": "2024-05-30T08:16:37.372Z"
   },
   {
    "duration": 9,
    "start_time": "2024-05-30T08:18:05.162Z"
   },
   {
    "duration": 59,
    "start_time": "2024-05-30T08:19:31.362Z"
   },
   {
    "duration": 8,
    "start_time": "2024-05-30T08:19:51.838Z"
   },
   {
    "duration": 33,
    "start_time": "2024-05-30T08:20:07.846Z"
   },
   {
    "duration": 18,
    "start_time": "2024-05-30T08:20:17.863Z"
   },
   {
    "duration": 7,
    "start_time": "2024-05-30T08:20:30.703Z"
   },
   {
    "duration": 25,
    "start_time": "2024-05-30T08:21:40.675Z"
   },
   {
    "duration": 9,
    "start_time": "2024-05-30T08:21:50.244Z"
   },
   {
    "duration": 7,
    "start_time": "2024-05-30T08:22:06.582Z"
   },
   {
    "duration": 64,
    "start_time": "2024-05-30T08:22:17.162Z"
   },
   {
    "duration": 61,
    "start_time": "2024-05-30T08:22:46.714Z"
   },
   {
    "duration": 1082,
    "start_time": "2024-05-30T08:23:00.890Z"
   },
   {
    "duration": 31,
    "start_time": "2024-05-30T08:24:04.107Z"
   },
   {
    "duration": 4214,
    "start_time": "2024-05-30T08:25:27.359Z"
   },
   {
    "duration": 13,
    "start_time": "2024-05-30T08:25:31.577Z"
   },
   {
    "duration": 6,
    "start_time": "2024-05-30T08:25:31.592Z"
   },
   {
    "duration": 16,
    "start_time": "2024-05-30T08:25:31.603Z"
   },
   {
    "duration": 20,
    "start_time": "2024-05-30T08:25:31.623Z"
   },
   {
    "duration": 14,
    "start_time": "2024-05-30T08:25:31.647Z"
   },
   {
    "duration": 101,
    "start_time": "2024-05-30T08:25:31.664Z"
   },
   {
    "duration": 581,
    "start_time": "2024-05-30T08:25:31.769Z"
   },
   {
    "duration": 15,
    "start_time": "2024-05-30T08:25:32.354Z"
   },
   {
    "duration": 9,
    "start_time": "2024-05-30T08:25:32.376Z"
   },
   {
    "duration": 37,
    "start_time": "2024-05-30T08:25:32.389Z"
   },
   {
    "duration": 6,
    "start_time": "2024-05-30T08:25:32.429Z"
   },
   {
    "duration": 7,
    "start_time": "2024-05-30T08:25:32.439Z"
   },
   {
    "duration": 9,
    "start_time": "2024-05-30T08:25:32.449Z"
   },
   {
    "duration": 61,
    "start_time": "2024-05-30T08:25:32.462Z"
   },
   {
    "duration": 7,
    "start_time": "2024-05-30T08:25:32.528Z"
   },
   {
    "duration": 9,
    "start_time": "2024-05-30T08:25:32.638Z"
   },
   {
    "duration": 17,
    "start_time": "2024-05-30T08:25:32.956Z"
   },
   {
    "duration": 18,
    "start_time": "2024-05-30T08:25:33.164Z"
   },
   {
    "duration": 7,
    "start_time": "2024-05-30T08:25:33.346Z"
   },
   {
    "duration": 10,
    "start_time": "2024-05-30T08:25:33.532Z"
   },
   {
    "duration": 10,
    "start_time": "2024-05-30T08:25:33.736Z"
   },
   {
    "duration": 6,
    "start_time": "2024-05-30T08:25:33.894Z"
   },
   {
    "duration": 60,
    "start_time": "2024-05-30T08:25:34.080Z"
   },
   {
    "duration": 61,
    "start_time": "2024-05-30T08:25:34.273Z"
   },
   {
    "duration": 28,
    "start_time": "2024-05-30T08:25:34.487Z"
   },
   {
    "duration": 1037,
    "start_time": "2024-05-30T08:25:34.654Z"
   },
   {
    "duration": 64,
    "start_time": "2024-05-30T08:25:41.641Z"
   },
   {
    "duration": 24,
    "start_time": "2024-05-30T08:25:43.371Z"
   },
   {
    "duration": 1091,
    "start_time": "2024-05-30T08:25:45.416Z"
   },
   {
    "duration": 3663,
    "start_time": "2024-05-30T08:26:02.895Z"
   },
   {
    "duration": 3589,
    "start_time": "2024-05-30T08:26:14.032Z"
   },
   {
    "duration": 12,
    "start_time": "2024-05-30T08:26:17.626Z"
   },
   {
    "duration": 8,
    "start_time": "2024-05-30T08:26:17.641Z"
   },
   {
    "duration": 19,
    "start_time": "2024-05-30T08:26:17.654Z"
   },
   {
    "duration": 54,
    "start_time": "2024-05-30T08:26:17.679Z"
   },
   {
    "duration": 16,
    "start_time": "2024-05-30T08:26:17.736Z"
   },
   {
    "duration": 64,
    "start_time": "2024-05-30T08:26:17.786Z"
   },
   {
    "duration": 557,
    "start_time": "2024-05-30T08:26:18.355Z"
   },
   {
    "duration": 14,
    "start_time": "2024-05-30T08:26:18.994Z"
   },
   {
    "duration": 10,
    "start_time": "2024-05-30T08:26:19.661Z"
   },
   {
    "duration": 6,
    "start_time": "2024-05-30T08:26:19.904Z"
   },
   {
    "duration": 6,
    "start_time": "2024-05-30T08:26:20.358Z"
   },
   {
    "duration": 7,
    "start_time": "2024-05-30T08:26:20.728Z"
   },
   {
    "duration": 10,
    "start_time": "2024-05-30T08:26:21.000Z"
   },
   {
    "duration": 7,
    "start_time": "2024-05-30T08:26:21.198Z"
   },
   {
    "duration": 7,
    "start_time": "2024-05-30T08:26:21.578Z"
   },
   {
    "duration": 9,
    "start_time": "2024-05-30T08:26:22.245Z"
   },
   {
    "duration": 17,
    "start_time": "2024-05-30T08:26:22.700Z"
   },
   {
    "duration": 16,
    "start_time": "2024-05-30T08:26:23.206Z"
   },
   {
    "duration": 9,
    "start_time": "2024-05-30T08:26:23.623Z"
   },
   {
    "duration": 11,
    "start_time": "2024-05-30T08:26:24.403Z"
   },
   {
    "duration": 16,
    "start_time": "2024-05-30T08:26:25.170Z"
   },
   {
    "duration": 5,
    "start_time": "2024-05-30T08:26:25.820Z"
   },
   {
    "duration": 85,
    "start_time": "2024-05-30T08:26:26.515Z"
   },
   {
    "duration": 65,
    "start_time": "2024-05-30T08:26:27.108Z"
   },
   {
    "duration": 36,
    "start_time": "2024-05-30T08:26:28.329Z"
   },
   {
    "duration": 4917,
    "start_time": "2024-05-30T08:27:00.734Z"
   },
   {
    "duration": 1014,
    "start_time": "2024-05-30T08:27:52.272Z"
   },
   {
    "duration": 1508,
    "start_time": "2024-05-30T08:28:07.935Z"
   },
   {
    "duration": 24,
    "start_time": "2024-05-30T08:28:25.748Z"
   },
   {
    "duration": 12,
    "start_time": "2024-05-30T08:29:02.987Z"
   },
   {
    "duration": 6,
    "start_time": "2024-05-30T08:29:48.851Z"
   },
   {
    "duration": 1508,
    "start_time": "2024-05-30T08:44:07.807Z"
   },
   {
    "duration": 1594,
    "start_time": "2024-05-30T08:44:20.754Z"
   },
   {
    "duration": 31,
    "start_time": "2024-05-30T08:47:04.726Z"
   },
   {
    "duration": 5312,
    "start_time": "2024-05-30T08:47:30.044Z"
   },
   {
    "duration": 5154,
    "start_time": "2024-05-30T08:47:53.193Z"
   },
   {
    "duration": 13,
    "start_time": "2024-05-30T08:49:03.681Z"
   },
   {
    "duration": 7,
    "start_time": "2024-05-30T08:49:14.937Z"
   },
   {
    "duration": 6,
    "start_time": "2024-05-30T08:49:25.832Z"
   },
   {
    "duration": 6,
    "start_time": "2024-05-30T08:49:35.219Z"
   },
   {
    "duration": 7,
    "start_time": "2024-05-30T08:49:42.851Z"
   },
   {
    "duration": 5,
    "start_time": "2024-05-30T08:50:03.444Z"
   },
   {
    "duration": 4,
    "start_time": "2024-05-30T08:50:12.823Z"
   },
   {
    "duration": 5,
    "start_time": "2024-05-30T08:50:20.117Z"
   },
   {
    "duration": 333,
    "start_time": "2024-05-31T15:35:27.515Z"
   },
   {
    "duration": 9428,
    "start_time": "2024-05-31T15:35:40.584Z"
   },
   {
    "duration": 20,
    "start_time": "2024-05-31T15:35:50.017Z"
   },
   {
    "duration": 7,
    "start_time": "2024-05-31T15:35:50.041Z"
   },
   {
    "duration": 16,
    "start_time": "2024-05-31T15:35:50.051Z"
   },
   {
    "duration": 57,
    "start_time": "2024-05-31T15:35:50.073Z"
   },
   {
    "duration": 15,
    "start_time": "2024-05-31T15:35:50.133Z"
   },
   {
    "duration": 101,
    "start_time": "2024-05-31T15:35:50.152Z"
   },
   {
    "duration": 596,
    "start_time": "2024-05-31T15:35:50.256Z"
   },
   {
    "duration": 14,
    "start_time": "2024-05-31T15:35:50.855Z"
   },
   {
    "duration": 9,
    "start_time": "2024-05-31T15:35:50.872Z"
   },
   {
    "duration": 6,
    "start_time": "2024-05-31T15:35:50.884Z"
   },
   {
    "duration": 6,
    "start_time": "2024-05-31T15:35:50.930Z"
   },
   {
    "duration": 7,
    "start_time": "2024-05-31T15:35:50.939Z"
   },
   {
    "duration": 8,
    "start_time": "2024-05-31T15:35:50.955Z"
   },
   {
    "duration": 8,
    "start_time": "2024-05-31T15:35:50.966Z"
   },
   {
    "duration": 56,
    "start_time": "2024-05-31T15:35:50.977Z"
   },
   {
    "duration": 8,
    "start_time": "2024-05-31T15:35:51.037Z"
   },
   {
    "duration": 19,
    "start_time": "2024-05-31T15:35:51.049Z"
   },
   {
    "duration": 17,
    "start_time": "2024-05-31T15:35:51.071Z"
   },
   {
    "duration": 44,
    "start_time": "2024-05-31T15:35:51.091Z"
   },
   {
    "duration": 14,
    "start_time": "2024-05-31T15:35:51.138Z"
   },
   {
    "duration": 11,
    "start_time": "2024-05-31T15:35:51.155Z"
   },
   {
    "duration": 6,
    "start_time": "2024-05-31T15:35:51.170Z"
   },
   {
    "duration": 101,
    "start_time": "2024-05-31T15:35:51.179Z"
   },
   {
    "duration": 90,
    "start_time": "2024-05-31T15:35:51.283Z"
   },
   {
    "duration": 1684,
    "start_time": "2024-05-31T15:35:51.379Z"
   },
   {
    "duration": 5154,
    "start_time": "2024-05-31T15:35:53.066Z"
   },
   {
    "duration": 5086,
    "start_time": "2024-05-31T15:35:58.223Z"
   },
   {
    "duration": 20,
    "start_time": "2024-05-31T15:36:03.313Z"
   },
   {
    "duration": 7,
    "start_time": "2024-05-31T15:36:03.338Z"
   },
   {
    "duration": 4,
    "start_time": "2024-05-31T15:36:03.351Z"
   },
   {
    "duration": 0,
    "start_time": "2024-05-31T15:36:03.868Z"
   },
   {
    "duration": 0,
    "start_time": "2024-05-31T15:36:03.871Z"
   },
   {
    "duration": 0,
    "start_time": "2024-05-31T15:36:03.873Z"
   },
   {
    "duration": 0,
    "start_time": "2024-05-31T15:36:03.875Z"
   },
   {
    "duration": 0,
    "start_time": "2024-05-31T15:36:03.877Z"
   },
   {
    "duration": 0,
    "start_time": "2024-05-31T15:36:03.880Z"
   },
   {
    "duration": 37,
    "start_time": "2024-05-31T15:36:09.436Z"
   },
   {
    "duration": 3569,
    "start_time": "2024-05-31T15:36:37.484Z"
   },
   {
    "duration": 12,
    "start_time": "2024-05-31T15:36:41.176Z"
   },
   {
    "duration": 9,
    "start_time": "2024-05-31T15:36:41.493Z"
   },
   {
    "duration": 26,
    "start_time": "2024-05-31T15:36:41.653Z"
   },
   {
    "duration": 19,
    "start_time": "2024-05-31T15:36:41.822Z"
   },
   {
    "duration": 15,
    "start_time": "2024-05-31T15:36:42.301Z"
   },
   {
    "duration": 58,
    "start_time": "2024-05-31T15:36:42.645Z"
   },
   {
    "duration": 543,
    "start_time": "2024-05-31T15:36:43.198Z"
   },
   {
    "duration": 14,
    "start_time": "2024-05-31T15:36:43.745Z"
   },
   {
    "duration": 9,
    "start_time": "2024-05-31T15:36:44.193Z"
   },
   {
    "duration": 6,
    "start_time": "2024-05-31T15:36:44.407Z"
   },
   {
    "duration": 6,
    "start_time": "2024-05-31T15:36:44.594Z"
   },
   {
    "duration": 6,
    "start_time": "2024-05-31T15:36:44.790Z"
   },
   {
    "duration": 10,
    "start_time": "2024-05-31T15:36:44.955Z"
   },
   {
    "duration": 6,
    "start_time": "2024-05-31T15:36:45.144Z"
   },
   {
    "duration": 11,
    "start_time": "2024-05-31T15:36:45.536Z"
   },
   {
    "duration": 9,
    "start_time": "2024-05-31T15:36:45.743Z"
   },
   {
    "duration": 22,
    "start_time": "2024-05-31T15:36:46.335Z"
   },
   {
    "duration": 15,
    "start_time": "2024-05-31T15:36:46.493Z"
   },
   {
    "duration": 8,
    "start_time": "2024-05-31T15:36:46.688Z"
   },
   {
    "duration": 11,
    "start_time": "2024-05-31T15:36:46.880Z"
   },
   {
    "duration": 10,
    "start_time": "2024-05-31T15:36:47.240Z"
   },
   {
    "duration": 6,
    "start_time": "2024-05-31T15:36:47.453Z"
   },
   {
    "duration": 61,
    "start_time": "2024-05-31T15:36:47.637Z"
   },
   {
    "duration": 62,
    "start_time": "2024-05-31T15:36:47.835Z"
   },
   {
    "duration": 1654,
    "start_time": "2024-05-31T15:36:48.036Z"
   },
   {
    "duration": 5676,
    "start_time": "2024-05-31T15:36:49.694Z"
   },
   {
    "duration": 5082,
    "start_time": "2024-05-31T15:36:55.374Z"
   },
   {
    "duration": 15,
    "start_time": "2024-05-31T15:37:00.461Z"
   },
   {
    "duration": 10,
    "start_time": "2024-05-31T15:37:00.479Z"
   },
   {
    "duration": 4,
    "start_time": "2024-05-31T15:37:00.494Z"
   },
   {
    "duration": 613,
    "start_time": "2024-05-31T15:37:00.532Z"
   },
   {
    "duration": 8555,
    "start_time": "2024-05-31T15:39:26.005Z"
   },
   {
    "duration": 265,
    "start_time": "2024-05-31T15:42:28.917Z"
   },
   {
    "duration": 242,
    "start_time": "2024-05-31T15:43:03.516Z"
   },
   {
    "duration": 3,
    "start_time": "2024-05-31T15:45:11.258Z"
   },
   {
    "duration": 240,
    "start_time": "2024-05-31T15:45:12.995Z"
   },
   {
    "duration": 19,
    "start_time": "2024-05-31T15:45:39.906Z"
   },
   {
    "duration": 18,
    "start_time": "2024-05-31T15:46:47.238Z"
   },
   {
    "duration": 20,
    "start_time": "2024-05-31T15:49:22.324Z"
   },
   {
    "duration": 19,
    "start_time": "2024-05-31T15:50:21.858Z"
   },
   {
    "duration": 19,
    "start_time": "2024-05-31T15:50:41.100Z"
   },
   {
    "duration": 18,
    "start_time": "2024-05-31T15:50:42.339Z"
   },
   {
    "duration": 31,
    "start_time": "2024-05-31T15:53:10.549Z"
   },
   {
    "duration": 8,
    "start_time": "2024-05-31T15:53:29.152Z"
   },
   {
    "duration": 6,
    "start_time": "2024-05-31T16:00:40.872Z"
   },
   {
    "duration": 10,
    "start_time": "2024-05-31T16:00:46.367Z"
   },
   {
    "duration": 6,
    "start_time": "2024-05-31T16:00:47.240Z"
   },
   {
    "duration": 18,
    "start_time": "2024-05-31T16:00:47.708Z"
   },
   {
    "duration": 18,
    "start_time": "2024-05-31T16:00:48.818Z"
   },
   {
    "duration": 12,
    "start_time": "2024-05-31T16:00:50.908Z"
   },
   {
    "duration": 54,
    "start_time": "2024-05-31T16:01:23.357Z"
   },
   {
    "duration": 7,
    "start_time": "2024-05-31T16:03:13.472Z"
   },
   {
    "duration": 6,
    "start_time": "2024-05-31T16:05:38.590Z"
   },
   {
    "duration": 6017,
    "start_time": "2024-05-31T16:06:12.607Z"
   },
   {
    "duration": 19,
    "start_time": "2024-05-31T16:09:32.514Z"
   },
   {
    "duration": 18,
    "start_time": "2024-05-31T16:09:33.567Z"
   },
   {
    "duration": 6,
    "start_time": "2024-05-31T16:13:30.914Z"
   },
   {
    "duration": 8,
    "start_time": "2024-05-31T16:14:04.388Z"
   },
   {
    "duration": 9,
    "start_time": "2024-05-31T16:14:45.365Z"
   },
   {
    "duration": 6,
    "start_time": "2024-05-31T16:26:08.686Z"
   },
   {
    "duration": 10,
    "start_time": "2024-05-31T16:26:10.416Z"
   },
   {
    "duration": 6,
    "start_time": "2024-05-31T16:26:11.255Z"
   },
   {
    "duration": 16,
    "start_time": "2024-05-31T16:26:11.757Z"
   },
   {
    "duration": 18,
    "start_time": "2024-05-31T16:26:12.088Z"
   },
   {
    "duration": 14,
    "start_time": "2024-05-31T16:26:12.671Z"
   },
   {
    "duration": 54,
    "start_time": "2024-05-31T16:26:13.129Z"
   },
   {
    "duration": 589,
    "start_time": "2024-05-31T16:26:13.969Z"
   },
   {
    "duration": 14,
    "start_time": "2024-05-31T16:26:14.561Z"
   },
   {
    "duration": 11,
    "start_time": "2024-05-31T16:26:15.432Z"
   },
   {
    "duration": 6,
    "start_time": "2024-05-31T16:26:15.638Z"
   },
   {
    "duration": 6,
    "start_time": "2024-05-31T16:26:15.846Z"
   },
   {
    "duration": 6,
    "start_time": "2024-05-31T16:26:16.047Z"
   },
   {
    "duration": 8,
    "start_time": "2024-05-31T16:26:16.245Z"
   },
   {
    "duration": 5,
    "start_time": "2024-05-31T16:26:16.421Z"
   },
   {
    "duration": 6,
    "start_time": "2024-05-31T16:26:16.787Z"
   },
   {
    "duration": 8,
    "start_time": "2024-05-31T16:26:17.015Z"
   },
   {
    "duration": 16,
    "start_time": "2024-05-31T16:26:17.699Z"
   },
   {
    "duration": 16,
    "start_time": "2024-05-31T16:26:17.853Z"
   },
   {
    "duration": 7,
    "start_time": "2024-05-31T16:26:18.045Z"
   },
   {
    "duration": 10,
    "start_time": "2024-05-31T16:26:18.186Z"
   },
   {
    "duration": 10,
    "start_time": "2024-05-31T16:26:18.368Z"
   },
   {
    "duration": 5,
    "start_time": "2024-05-31T16:26:18.576Z"
   },
   {
    "duration": 59,
    "start_time": "2024-05-31T16:26:18.764Z"
   },
   {
    "duration": 56,
    "start_time": "2024-05-31T16:26:18.947Z"
   },
   {
    "duration": 1536,
    "start_time": "2024-05-31T16:26:19.134Z"
   },
   {
    "duration": 5109,
    "start_time": "2024-05-31T16:26:20.674Z"
   },
   {
    "duration": 4949,
    "start_time": "2024-05-31T16:26:25.786Z"
   },
   {
    "duration": 14,
    "start_time": "2024-05-31T16:26:30.738Z"
   },
   {
    "duration": 8,
    "start_time": "2024-05-31T16:26:30.755Z"
   },
   {
    "duration": 6,
    "start_time": "2024-05-31T16:26:30.765Z"
   },
   {
    "duration": 64,
    "start_time": "2024-05-31T16:26:30.773Z"
   },
   {
    "duration": 18,
    "start_time": "2024-05-31T16:26:30.839Z"
   },
   {
    "duration": 8,
    "start_time": "2024-05-31T16:26:30.861Z"
   },
   {
    "duration": 1814,
    "start_time": "2024-05-31T16:28:43.130Z"
   },
   {
    "duration": 18,
    "start_time": "2024-05-31T16:28:44.948Z"
   },
   {
    "duration": 7,
    "start_time": "2024-05-31T16:28:44.968Z"
   },
   {
    "duration": 41,
    "start_time": "2024-05-31T16:28:44.980Z"
   },
   {
    "duration": 24,
    "start_time": "2024-05-31T16:28:45.024Z"
   },
   {
    "duration": 14,
    "start_time": "2024-05-31T16:28:45.051Z"
   },
   {
    "duration": 90,
    "start_time": "2024-05-31T16:28:45.068Z"
   },
   {
    "duration": 569,
    "start_time": "2024-05-31T16:28:45.162Z"
   },
   {
    "duration": 15,
    "start_time": "2024-05-31T16:28:45.734Z"
   },
   {
    "duration": 10,
    "start_time": "2024-05-31T16:28:45.754Z"
   },
   {
    "duration": 8,
    "start_time": "2024-05-31T16:28:45.766Z"
   },
   {
    "duration": 38,
    "start_time": "2024-05-31T16:28:45.777Z"
   },
   {
    "duration": 5,
    "start_time": "2024-05-31T16:28:45.819Z"
   },
   {
    "duration": 9,
    "start_time": "2024-05-31T16:28:45.827Z"
   },
   {
    "duration": 6,
    "start_time": "2024-05-31T16:28:45.839Z"
   },
   {
    "duration": 7,
    "start_time": "2024-05-31T16:28:45.848Z"
   },
   {
    "duration": 62,
    "start_time": "2024-05-31T16:28:45.858Z"
   },
   {
    "duration": 16,
    "start_time": "2024-05-31T16:28:45.924Z"
   },
   {
    "duration": 15,
    "start_time": "2024-05-31T16:28:45.943Z"
   },
   {
    "duration": 51,
    "start_time": "2024-05-31T16:28:45.961Z"
   },
   {
    "duration": 10,
    "start_time": "2024-05-31T16:28:46.015Z"
   },
   {
    "duration": 9,
    "start_time": "2024-05-31T16:28:46.029Z"
   },
   {
    "duration": 6,
    "start_time": "2024-05-31T16:28:46.041Z"
   },
   {
    "duration": 99,
    "start_time": "2024-05-31T16:28:46.050Z"
   },
   {
    "duration": 75,
    "start_time": "2024-05-31T16:28:46.152Z"
   },
   {
    "duration": 1677,
    "start_time": "2024-05-31T16:28:46.230Z"
   },
   {
    "duration": 5473,
    "start_time": "2024-05-31T16:28:47.913Z"
   },
   {
    "duration": 5106,
    "start_time": "2024-05-31T16:28:53.396Z"
   },
   {
    "duration": 15,
    "start_time": "2024-05-31T16:28:58.512Z"
   },
   {
    "duration": 8,
    "start_time": "2024-05-31T16:28:58.529Z"
   },
   {
    "duration": 4,
    "start_time": "2024-05-31T16:28:58.541Z"
   },
   {
    "duration": 18,
    "start_time": "2024-05-31T16:28:58.548Z"
   },
   {
    "duration": 58,
    "start_time": "2024-05-31T16:28:58.569Z"
   },
   {
    "duration": 8,
    "start_time": "2024-05-31T16:28:58.630Z"
   },
   {
    "duration": 5418,
    "start_time": "2024-05-31T21:12:17.611Z"
   },
   {
    "duration": 16,
    "start_time": "2024-05-31T21:12:23.034Z"
   },
   {
    "duration": 7,
    "start_time": "2024-05-31T21:12:23.053Z"
   },
   {
    "duration": 35,
    "start_time": "2024-05-31T21:12:23.065Z"
   },
   {
    "duration": 18,
    "start_time": "2024-05-31T21:12:23.103Z"
   },
   {
    "duration": 14,
    "start_time": "2024-05-31T21:12:23.124Z"
   },
   {
    "duration": 100,
    "start_time": "2024-05-31T21:12:23.141Z"
   },
   {
    "duration": 580,
    "start_time": "2024-05-31T21:12:23.244Z"
   },
   {
    "duration": 14,
    "start_time": "2024-05-31T21:12:23.828Z"
   },
   {
    "duration": 8,
    "start_time": "2024-05-31T21:12:23.847Z"
   },
   {
    "duration": 35,
    "start_time": "2024-05-31T21:12:23.858Z"
   },
   {
    "duration": 7,
    "start_time": "2024-05-31T21:12:23.896Z"
   },
   {
    "duration": 6,
    "start_time": "2024-05-31T21:12:23.906Z"
   },
   {
    "duration": 8,
    "start_time": "2024-05-31T21:12:23.915Z"
   },
   {
    "duration": 6,
    "start_time": "2024-05-31T21:12:23.926Z"
   },
   {
    "duration": 127,
    "start_time": "2024-05-31T21:12:23.935Z"
   },
   {
    "duration": 8,
    "start_time": "2024-05-31T21:12:24.066Z"
   },
   {
    "duration": 18,
    "start_time": "2024-05-31T21:12:24.092Z"
   },
   {
    "duration": 15,
    "start_time": "2024-05-31T21:12:24.113Z"
   },
   {
    "duration": 7,
    "start_time": "2024-05-31T21:12:24.131Z"
   },
   {
    "duration": 52,
    "start_time": "2024-05-31T21:12:24.141Z"
   },
   {
    "duration": 10,
    "start_time": "2024-05-31T21:12:24.196Z"
   },
   {
    "duration": 6,
    "start_time": "2024-05-31T21:12:24.208Z"
   },
   {
    "duration": 95,
    "start_time": "2024-05-31T21:12:24.217Z"
   },
   {
    "duration": 59,
    "start_time": "2024-05-31T21:12:24.315Z"
   },
   {
    "duration": 1600,
    "start_time": "2024-05-31T21:12:24.392Z"
   },
   {
    "duration": 10269,
    "start_time": "2024-05-31T21:12:25.995Z"
   },
   {
    "duration": 5231,
    "start_time": "2024-05-31T21:12:36.271Z"
   },
   {
    "duration": 19,
    "start_time": "2024-05-31T21:12:41.505Z"
   },
   {
    "duration": 8,
    "start_time": "2024-05-31T21:12:41.527Z"
   },
   {
    "duration": 13,
    "start_time": "2024-05-31T21:12:41.538Z"
   },
   {
    "duration": 54,
    "start_time": "2024-05-31T21:12:41.554Z"
   },
   {
    "duration": 23,
    "start_time": "2024-05-31T21:12:41.611Z"
   },
   {
    "duration": 8,
    "start_time": "2024-05-31T21:12:41.637Z"
   }
  ],
  "kernelspec": {
   "display_name": "Python 3 (ipykernel)",
   "language": "python",
   "name": "python3"
  },
  "language_info": {
   "codemirror_mode": {
    "name": "ipython",
    "version": 3
   },
   "file_extension": ".py",
   "mimetype": "text/x-python",
   "name": "python",
   "nbconvert_exporter": "python",
   "pygments_lexer": "ipython3",
   "version": "3.9.19"
  },
  "toc": {
   "base_numbering": 1,
   "nav_menu": {},
   "number_sections": true,
   "sideBar": true,
   "skip_h1_title": true,
   "title_cell": "Table of Contents",
   "title_sidebar": "Contents",
   "toc_cell": false,
   "toc_position": {},
   "toc_section_display": true,
   "toc_window_display": false
  }
 },
 "nbformat": 4,
 "nbformat_minor": 2
}
